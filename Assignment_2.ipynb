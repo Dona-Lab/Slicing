{
  "nbformat": 4,
  "nbformat_minor": 0,
  "metadata": {
    "colab": {
      "provenance": []
    },
    "kernelspec": {
      "name": "python3",
      "display_name": "Python 3"
    },
    "language_info": {
      "name": "python"
    }
  },
  "cells": [
    {
      "cell_type": "markdown",
      "source": [],
      "metadata": {
        "id": "VicYWMAGdpN9"
      }
    },
    {
      "cell_type": "markdown",
      "source": [
        "1. Create a list of sandwich ingridients you can think of and then use slicing to get some of the ingridients out of it in a separate list."
      ],
      "metadata": {
        "id": "5ECJq7dndqnE"
      }
    },
    {
      "cell_type": "code",
      "source": [
        "sandwich=['bread','cheese slice','tomatoes','cucumber','lettuce','salt','pepper','mayonaisse']\n",
        "sandwich[0:2]"
      ],
      "metadata": {
        "colab": {
          "base_uri": "https://localhost:8080/"
        },
        "id": "lQlo4ix0ee7c",
        "outputId": "0144bd64-4e0e-47a3-fad2-7b3e277a69ce"
      },
      "execution_count": null,
      "outputs": [
        {
          "output_type": "execute_result",
          "data": {
            "text/plain": [
              "['bread', 'cheese slice']"
            ]
          },
          "metadata": {},
          "execution_count": 5
        }
      ]
    },
    {
      "cell_type": "code",
      "source": [
        "sandwich[2:4]"
      ],
      "metadata": {
        "colab": {
          "base_uri": "https://localhost:8080/"
        },
        "id": "a478M6EV9msf",
        "outputId": "a8b364b2-8f47-4280-cf93-c060e4828075"
      },
      "execution_count": null,
      "outputs": [
        {
          "output_type": "execute_result",
          "data": {
            "text/plain": [
              "['tomatoes', 'cucumber']"
            ]
          },
          "metadata": {},
          "execution_count": 6
        }
      ]
    },
    {
      "cell_type": "code",
      "source": [
        "sandwich[-2:-1]"
      ],
      "metadata": {
        "colab": {
          "base_uri": "https://localhost:8080/"
        },
        "id": "wtcu6RvR9zQX",
        "outputId": "4d9087df-3743-44a0-ebac-45486829f032"
      },
      "execution_count": null,
      "outputs": [
        {
          "output_type": "execute_result",
          "data": {
            "text/plain": [
              "['pepper']"
            ]
          },
          "metadata": {},
          "execution_count": 14
        }
      ]
    },
    {
      "cell_type": "code",
      "source": [
        "sandwich[5:8]"
      ],
      "metadata": {
        "colab": {
          "base_uri": "https://localhost:8080/"
        },
        "id": "os23oo_c-_HM",
        "outputId": "31acbcce-fda9-42a1-a3f3-490917c0799a"
      },
      "execution_count": null,
      "outputs": [
        {
          "output_type": "execute_result",
          "data": {
            "text/plain": [
              "['salt', 'pepper', 'mayonaisse']"
            ]
          },
          "metadata": {},
          "execution_count": 17
        }
      ]
    },
    {
      "cell_type": "markdown",
      "source": [],
      "metadata": {
        "id": "6HWU9si6Bceo"
      }
    },
    {
      "cell_type": "markdown",
      "source": [
        "2.You have a list with 5 subjects and their corresponding marks.Eg.['English',90,'maths',95...]. Write a python code to extract a list of marks only out of the first list.Eg [90,95]"
      ],
      "metadata": {
        "id": "VI4eXKuHegRr"
      }
    },
    {
      "cell_type": "code",
      "source": [
        "Sub_and_marks=['english',90,'maths',95,'science',97,'history',88,'geography',92]\n",
        "marks1=Sub_and_marks[1:2]\n",
        "marks2=Sub_and_marks[3:4]\n",
        "marks3=Sub_and_marks[5:6]\n",
        "marks4=Sub_and_marks[7:8]\n",
        "marks5=Sub_and_marks[9:10]\n",
        "\n",
        "print(marks1,marks2,marks3,marks4,marks5)"
      ],
      "metadata": {
        "id": "mY_Wa27c9kBP",
        "colab": {
          "base_uri": "https://localhost:8080/"
        },
        "outputId": "a9312503-9ae7-4720-a852-d2e0e2c42c49"
      },
      "execution_count": null,
      "outputs": [
        {
          "output_type": "stream",
          "name": "stdout",
          "text": [
            "[90] [95] [97] [88] [92]\n"
          ]
        }
      ]
    },
    {
      "cell_type": "markdown",
      "source": [],
      "metadata": {
        "id": "zT-HfXVaedsc"
      }
    }
  ]
}